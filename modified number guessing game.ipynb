{
 "cells": [
  {
   "cell_type": "code",
   "execution_count": 7,
   "metadata": {},
   "outputs": [
    {
     "name": "stdout",
     "output_type": "stream",
     "text": [
      "guess a number between 1 and 100 :55\n",
      "too low \n",
      "guess again :60\n",
      "too low \n",
      "guess again :70\n",
      "too low \n",
      "guess again :80\n",
      "too high \n",
      "guess again :75\n",
      "too high \n",
      "guess again :74\n",
      "too high \n",
      "guess again :72\n",
      "too low \n",
      "guess again :73\n",
      "you win and you guess this number in 8 times\n"
     ]
    }
   ],
   "source": [
    "winning_number = 73\n",
    "guess = 1\n",
    "number = int(input(\"guess a number between 1 and 100 :\"))\n",
    "game_over = False\n",
    "\n",
    "while not game_over:\n",
    "    if number == winning_number:\n",
    "        print(f\"you win and you guess this number in {guess} times\")\n",
    "        game_over = True\n",
    "    else:\n",
    "        if number < winning_number:\n",
    "              print(\"too low \")\n",
    "              guess += 1\n",
    "              number = int(input(\"guess again :\"))\n",
    "        else:\n",
    "              print(\"too high \")\n",
    "              guess += 1\n",
    "              number = int(input(\"guess again :\"))"
   ]
  },
  {
   "cell_type": "code",
   "execution_count": null,
   "metadata": {},
   "outputs": [],
   "source": []
  }
 ],
 "metadata": {
  "kernelspec": {
   "display_name": "Python 3",
   "language": "python",
   "name": "python3"
  },
  "language_info": {
   "codemirror_mode": {
    "name": "ipython",
    "version": 3
   },
   "file_extension": ".py",
   "mimetype": "text/x-python",
   "name": "python",
   "nbconvert_exporter": "python",
   "pygments_lexer": "ipython3",
   "version": "3.7.6"
  }
 },
 "nbformat": 4,
 "nbformat_minor": 4
}
