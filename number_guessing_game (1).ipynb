{
 "cells": [
  {
   "cell_type": "code",
   "execution_count": 1,
   "metadata": {},
   "outputs": [],
   "source": [
    "# number guessing game\n",
    "# write a program to select ramdom number b/w  1 to 100 by system\n",
    "# ask user to guess number\n",
    "# if user guessed correctly than print \" you won !!\"\n",
    "# if user didn't guessed correctly then:\n",
    "  # if user guessed lower than actual number then print \"too low\"\n",
    "  # if user guessed higher than actual number then print \"too high\""
   ]
  },
  {
   "cell_type": "code",
   "execution_count": null,
   "metadata": {},
   "outputs": [
    {
     "name": "stdout",
     "output_type": "stream",
     "text": [
      "guess the number here : 65\n",
      "too high\n",
      "guess the number here : 10\n",
      "too low\n",
      "guess the number here : 25\n",
      "too low\n",
      "guess the number here : 92\n",
      "too high\n",
      "guess the number here : 55\n",
      "too high\n",
      "guess the number here : 35\n",
      "too high\n",
      "guess the number here : 30\n",
      "too low\n",
      "guess the number here : 35\n",
      "too low\n",
      "guess the number here : 10\n",
      "too low\n",
      "guess the number here : 2\n",
      "too low\n"
     ]
    }
   ],
   "source": [
    "import random\n",
    "for x in range(1,100):\n",
    "    x =  random.randint(1,100)\n",
    "    y =  int(input(\"guess the number here : \"))\n",
    "    if x == y:\n",
    "        print(\"you won !!\")\n",
    "    else:\n",
    "        if x > y:\n",
    "             print(\"too low\")\n",
    "        if x < y:\n",
    "             print(\"too high\")"
   ]
  },
  {
   "cell_type": "code",
   "execution_count": null,
   "metadata": {},
   "outputs": [],
   "source": [
    "# number guessing game 2\n",
    "# make a variable, like winning _number and assign any number to it.\n",
    "# ask user to guess number\n",
    "# if user guessed correctly than print \" you won !!\"\n",
    "# if user didn't guessed correctly then:\n",
    "  # if user guessed lower than actual number then print \"too low\"\n",
    "  # if user guessed higher than actual number then print \"too high\""
   ]
  },
  {
   "cell_type": "code",
   "execution_count": 4,
   "metadata": {},
   "outputs": [],
   "source": [
    "def my_game():\n",
    "    winning_number = 73\n",
    "    user_input = int(input(\"guess the number b/w a and 100 : \"))\n",
    "    if user_input == winning_number:\n",
    "        print(\"you won the game !! \")\n",
    "    else:\n",
    "        if user_input < winning_number:\n",
    "            print(\"too low\")\n",
    "        else: \n",
    "            print(\"too high\")\n"
   ]
  },
  {
   "cell_type": "code",
   "execution_count": 5,
   "metadata": {},
   "outputs": [
    {
     "name": "stdout",
     "output_type": "stream",
     "text": [
      "guess the number : 73\n",
      "you won the game !! \n"
     ]
    }
   ],
   "source": [
    "my_game()"
   ]
  },
  {
   "cell_type": "code",
   "execution_count": 6,
   "metadata": {},
   "outputs": [
    {
     "name": "stdout",
     "output_type": "stream",
     "text": [
      "guess the number : 52\n",
      "too low\n"
     ]
    }
   ],
   "source": [
    "my_game()"
   ]
  },
  {
   "cell_type": "code",
   "execution_count": 7,
   "metadata": {},
   "outputs": [
    {
     "name": "stdout",
     "output_type": "stream",
     "text": [
      "guess the number : 75\n",
      "too high\n"
     ]
    }
   ],
   "source": [
    "my_game()"
   ]
  },
  {
   "cell_type": "code",
   "execution_count": 8,
   "metadata": {},
   "outputs": [
    {
     "name": "stdout",
     "output_type": "stream",
     "text": [
      "guess the number : 25\n",
      "too low\n"
     ]
    }
   ],
   "source": [
    "my_game()"
   ]
  },
  {
   "cell_type": "code",
   "execution_count": 9,
   "metadata": {},
   "outputs": [
    {
     "name": "stdout",
     "output_type": "stream",
     "text": [
      "guess the number : 90\n",
      "too high\n"
     ]
    }
   ],
   "source": [
    "my_game()"
   ]
  },
  {
   "cell_type": "code",
   "execution_count": null,
   "metadata": {},
   "outputs": [],
   "source": []
  }
 ],
 "metadata": {
  "kernelspec": {
   "display_name": "Python 3",
   "language": "python",
   "name": "python3"
  },
  "language_info": {
   "codemirror_mode": {
    "name": "ipython",
    "version": 3
   },
   "file_extension": ".py",
   "mimetype": "text/x-python",
   "name": "python",
   "nbconvert_exporter": "python",
   "pygments_lexer": "ipython3",
   "version": "3.7.6"
  }
 },
 "nbformat": 4,
 "nbformat_minor": 4
}
